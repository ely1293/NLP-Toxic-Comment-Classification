{
 "cells": [
  {
   "cell_type": "markdown",
   "metadata": {},
   "source": [
    "# <center> Capstone Project - NLP: Toxic Comment Classification</center>"
   ]
  },
  {
   "cell_type": "markdown",
   "metadata": {},
   "source": [
    "## Dataset"
   ]
  },
  {
   "cell_type": "code",
   "execution_count": 1,
   "metadata": {},
   "outputs": [],
   "source": [
    "import numpy as np\n",
    "import pandas as pd\n",
    "\n",
    "# For visualizations\n",
    "import matplotlib.pyplot as plt\n",
    "import matplotlib.gridspec as gridspec \n",
    "import seaborn as sns\n",
    "color = sns.color_palette()\n",
    "\n",
    "%matplotlib inline\n",
    "\n",
    "#Text Preprocessing\n",
    "import re\n",
    "import contractions\n",
    "import unidecode\n",
    "from nltk import word_tokenize, pos_tag\n",
    "from nltk.stem import WordNetLemmatizer\n",
    "from nltk.tokenize import sent_tokenize\n",
    "from nltk.corpus import wordnet\n",
    "\n",
    "from gensim.parsing.preprocessing import remove_stopwords, STOPWORDS\n",
    "\n",
    "# Modeling\n",
    "from sklearn.model_selection import train_test_split\n",
    "from sklearn.pipeline import Pipeline\n",
    "from sklearn.model_selection import GridSearchCV\n",
    "from sklearn.feature_extraction.text import TfidfVectorizer\n",
    "from sklearn.linear_model import LogisticRegression\n",
    "from sklearn.ensemble import RandomForestClassifier\n",
    "from sklearn.naive_bayes import MultinomialNB\n",
    "from sklearn.svm import SVC\n",
    "\n",
    "# Performance metrics\n",
    "from sklearn.metrics import f1_score\n",
    "from sklearn.model_selection import cross_val_score\n",
    "from sklearn.metrics import accuracy_score\n",
    "from sklearn.metrics import precision_recall_fscore_support as score\n",
    "from sklearn.metrics import roc_curve\n",
    "from sklearn.metrics import auc\n",
    "\n",
    "#supress warnings\n",
    "import warnings\n",
    "warnings.filterwarnings('ignore')"
   ]
  },
  {
   "cell_type": "code",
   "execution_count": 2,
   "metadata": {},
   "outputs": [
    {
     "name": "stdout",
     "output_type": "stream",
     "text": [
      "(159571, 8)\n"
     ]
    }
   ],
   "source": [
    "#load data\n",
    "df = pd.read_csv('train.csv')\n",
    "print(df.shape)"
   ]
  },
  {
   "cell_type": "code",
   "execution_count": 3,
   "metadata": {},
   "outputs": [
    {
     "name": "stdout",
     "output_type": "stream",
     "text": [
      "<class 'pandas.core.frame.DataFrame'>\n",
      "RangeIndex: 159571 entries, 0 to 159570\n",
      "Data columns (total 8 columns):\n",
      " #   Column         Non-Null Count   Dtype \n",
      "---  ------         --------------   ----- \n",
      " 0   id             159571 non-null  object\n",
      " 1   comment_text   159571 non-null  object\n",
      " 2   toxic          159571 non-null  int64 \n",
      " 3   severe_toxic   159571 non-null  int64 \n",
      " 4   obscene        159571 non-null  int64 \n",
      " 5   threat         159571 non-null  int64 \n",
      " 6   insult         159571 non-null  int64 \n",
      " 7   identity_hate  159571 non-null  int64 \n",
      "dtypes: int64(6), object(2)\n",
      "memory usage: 9.7+ MB\n"
     ]
    }
   ],
   "source": [
    "df.info()"
   ]
  },
  {
   "cell_type": "code",
   "execution_count": 4,
   "metadata": {},
   "outputs": [
    {
     "data": {
      "text/html": [
       "<div>\n",
       "<style scoped>\n",
       "    .dataframe tbody tr th:only-of-type {\n",
       "        vertical-align: middle;\n",
       "    }\n",
       "\n",
       "    .dataframe tbody tr th {\n",
       "        vertical-align: top;\n",
       "    }\n",
       "\n",
       "    .dataframe thead th {\n",
       "        text-align: right;\n",
       "    }\n",
       "</style>\n",
       "<table border=\"1\" class=\"dataframe\">\n",
       "  <thead>\n",
       "    <tr style=\"text-align: right;\">\n",
       "      <th></th>\n",
       "      <th>id</th>\n",
       "      <th>comment_text</th>\n",
       "      <th>toxic</th>\n",
       "      <th>severe_toxic</th>\n",
       "      <th>obscene</th>\n",
       "      <th>threat</th>\n",
       "      <th>insult</th>\n",
       "      <th>identity_hate</th>\n",
       "    </tr>\n",
       "  </thead>\n",
       "  <tbody>\n",
       "    <tr>\n",
       "      <th>1558</th>\n",
       "      <td>042fe2d289c55264</td>\n",
       "      <td>Esports categories \\n\\nCan I ask why you moved...</td>\n",
       "      <td>0</td>\n",
       "      <td>0</td>\n",
       "      <td>0</td>\n",
       "      <td>0</td>\n",
       "      <td>0</td>\n",
       "      <td>0</td>\n",
       "    </tr>\n",
       "    <tr>\n",
       "      <th>150984</th>\n",
       "      <td>75496eaa06871731</td>\n",
       "      <td>So do ask a neutral user, but the facts are cl...</td>\n",
       "      <td>0</td>\n",
       "      <td>0</td>\n",
       "      <td>0</td>\n",
       "      <td>0</td>\n",
       "      <td>0</td>\n",
       "      <td>0</td>\n",
       "    </tr>\n",
       "    <tr>\n",
       "      <th>109236</th>\n",
       "      <td>482cea72d4035df8</td>\n",
       "      <td>\"\\n\\n The future of stubs \\n\\nThere is a propo...</td>\n",
       "      <td>0</td>\n",
       "      <td>0</td>\n",
       "      <td>0</td>\n",
       "      <td>0</td>\n",
       "      <td>0</td>\n",
       "      <td>0</td>\n",
       "    </tr>\n",
       "    <tr>\n",
       "      <th>24326</th>\n",
       "      <td>403b092f466ff81c</td>\n",
       "      <td>I don't understand why you want to block me\\n\\...</td>\n",
       "      <td>0</td>\n",
       "      <td>0</td>\n",
       "      <td>0</td>\n",
       "      <td>0</td>\n",
       "      <td>0</td>\n",
       "      <td>0</td>\n",
       "    </tr>\n",
       "    <tr>\n",
       "      <th>157514</th>\n",
       "      <td>df816a35520b5a66</td>\n",
       "      <td>REDIRECT Talk:Death of Dianne Brimble</td>\n",
       "      <td>0</td>\n",
       "      <td>0</td>\n",
       "      <td>0</td>\n",
       "      <td>0</td>\n",
       "      <td>0</td>\n",
       "      <td>0</td>\n",
       "    </tr>\n",
       "  </tbody>\n",
       "</table>\n",
       "</div>"
      ],
      "text/plain": [
       "                      id                                       comment_text  \\\n",
       "1558    042fe2d289c55264  Esports categories \\n\\nCan I ask why you moved...   \n",
       "150984  75496eaa06871731  So do ask a neutral user, but the facts are cl...   \n",
       "109236  482cea72d4035df8  \"\\n\\n The future of stubs \\n\\nThere is a propo...   \n",
       "24326   403b092f466ff81c  I don't understand why you want to block me\\n\\...   \n",
       "157514  df816a35520b5a66              REDIRECT Talk:Death of Dianne Brimble   \n",
       "\n",
       "        toxic  severe_toxic  obscene  threat  insult  identity_hate  \n",
       "1558        0             0        0       0       0              0  \n",
       "150984      0             0        0       0       0              0  \n",
       "109236      0             0        0       0       0              0  \n",
       "24326       0             0        0       0       0              0  \n",
       "157514      0             0        0       0       0              0  "
      ]
     },
     "execution_count": 4,
     "metadata": {},
     "output_type": "execute_result"
    }
   ],
   "source": [
    "df.sample(5)"
   ]
  },
  {
   "cell_type": "code",
   "execution_count": 6,
   "metadata": {},
   "outputs": [
    {
     "data": {
      "text/plain": [
       "id               0\n",
       "comment_text     0\n",
       "toxic            0\n",
       "severe_toxic     0\n",
       "obscene          0\n",
       "threat           0\n",
       "insult           0\n",
       "identity_hate    0\n",
       "dtype: int64"
      ]
     },
     "execution_count": 6,
     "metadata": {},
     "output_type": "execute_result"
    }
   ],
   "source": [
    "#check for nulls\n",
    "df.isnull().sum()"
   ]
  },
  {
   "cell_type": "code",
   "execution_count": 7,
   "metadata": {},
   "outputs": [
    {
     "data": {
      "text/html": [
       "<div>\n",
       "<style scoped>\n",
       "    .dataframe tbody tr th:only-of-type {\n",
       "        vertical-align: middle;\n",
       "    }\n",
       "\n",
       "    .dataframe tbody tr th {\n",
       "        vertical-align: top;\n",
       "    }\n",
       "\n",
       "    .dataframe thead th {\n",
       "        text-align: right;\n",
       "    }\n",
       "</style>\n",
       "<table border=\"1\" class=\"dataframe\">\n",
       "  <thead>\n",
       "    <tr style=\"text-align: right;\">\n",
       "      <th></th>\n",
       "      <th>id</th>\n",
       "      <th>comment_text</th>\n",
       "      <th>toxic</th>\n",
       "      <th>severe_toxic</th>\n",
       "      <th>obscene</th>\n",
       "      <th>threat</th>\n",
       "      <th>insult</th>\n",
       "      <th>identity_hate</th>\n",
       "      <th>clean</th>\n",
       "    </tr>\n",
       "  </thead>\n",
       "  <tbody>\n",
       "    <tr>\n",
       "      <th>2962</th>\n",
       "      <td>07ff85cf5090938f</td>\n",
       "      <td>Welcome!\\n\\nHello, MyShibboleth, and welcome t...</td>\n",
       "      <td>0</td>\n",
       "      <td>0</td>\n",
       "      <td>0</td>\n",
       "      <td>0</td>\n",
       "      <td>0</td>\n",
       "      <td>0</td>\n",
       "      <td>1</td>\n",
       "    </tr>\n",
       "    <tr>\n",
       "      <th>120270</th>\n",
       "      <td>833fd9b29c61487c</td>\n",
       "      <td>An edit war is determined objectively, not sub...</td>\n",
       "      <td>0</td>\n",
       "      <td>0</td>\n",
       "      <td>0</td>\n",
       "      <td>0</td>\n",
       "      <td>0</td>\n",
       "      <td>0</td>\n",
       "      <td>1</td>\n",
       "    </tr>\n",
       "    <tr>\n",
       "      <th>62244</th>\n",
       "      <td>a68b2920f9b5f8a5</td>\n",
       "      <td>OK, only Anneke Frank is left.  I retargeted A...</td>\n",
       "      <td>0</td>\n",
       "      <td>0</td>\n",
       "      <td>0</td>\n",
       "      <td>0</td>\n",
       "      <td>0</td>\n",
       "      <td>0</td>\n",
       "      <td>1</td>\n",
       "    </tr>\n",
       "    <tr>\n",
       "      <th>70590</th>\n",
       "      <td>bce62e14894c0d86</td>\n",
       "      <td>Silly me for trying to help.</td>\n",
       "      <td>0</td>\n",
       "      <td>0</td>\n",
       "      <td>0</td>\n",
       "      <td>0</td>\n",
       "      <td>0</td>\n",
       "      <td>0</td>\n",
       "      <td>1</td>\n",
       "    </tr>\n",
       "    <tr>\n",
       "      <th>122188</th>\n",
       "      <td>8da8e628588e13fa</td>\n",
       "      <td>HELLO!??? Cretins? Are any of you about? Or ar...</td>\n",
       "      <td>1</td>\n",
       "      <td>0</td>\n",
       "      <td>0</td>\n",
       "      <td>0</td>\n",
       "      <td>1</td>\n",
       "      <td>0</td>\n",
       "      <td>0</td>\n",
       "    </tr>\n",
       "  </tbody>\n",
       "</table>\n",
       "</div>"
      ],
      "text/plain": [
       "                      id                                       comment_text  \\\n",
       "2962    07ff85cf5090938f  Welcome!\\n\\nHello, MyShibboleth, and welcome t...   \n",
       "120270  833fd9b29c61487c  An edit war is determined objectively, not sub...   \n",
       "62244   a68b2920f9b5f8a5  OK, only Anneke Frank is left.  I retargeted A...   \n",
       "70590   bce62e14894c0d86                       Silly me for trying to help.   \n",
       "122188  8da8e628588e13fa  HELLO!??? Cretins? Are any of you about? Or ar...   \n",
       "\n",
       "        toxic  severe_toxic  obscene  threat  insult  identity_hate  clean  \n",
       "2962        0             0        0       0       0              0      1  \n",
       "120270      0             0        0       0       0              0      1  \n",
       "62244       0             0        0       0       0              0      1  \n",
       "70590       0             0        0       0       0              0      1  \n",
       "122188      1             0        0       0       1              0      0  "
      ]
     },
     "execution_count": 7,
     "metadata": {},
     "output_type": "execute_result"
    }
   ],
   "source": [
    "##new column 'clean'\n",
    "rowsums=df.iloc[:,2:].sum(axis=1)\n",
    "df['clean']=(rowsums==0).astype(int)\n",
    "\n",
    "df.sample(5)"
   ]
  },
  {
   "cell_type": "markdown",
   "metadata": {},
   "source": [
    "## EDA"
   ]
  },
  {
   "cell_type": "code",
   "execution_count": 22,
   "metadata": {},
   "outputs": [
    {
     "data": {
      "image/png": "[encoded data removed]",
      "text/plain": [
       "<Figure size 576x360 with 1 Axes>"
      ]
     },
     "metadata": {
      "needs_background": "light"
     },
     "output_type": "display_data"
    }
   ],
   "source": [
    "label_counts = df.iloc[:,2:].sum()\n",
    "\n",
    "plt.figure(figsize=(8,5))\n",
    "ax = sns.barplot(label_counts.index, label_counts.values)\n",
    "plt.title(\"Comments Per Category\")\n",
    "plt.ylabel('Count of Comments')\n",
    "plt.xlabel('Category')\n",
    "\n",
    "rects = ax.patches\n",
    "labels = label_counts.values\n",
    "for rect, label in zip(rects, labels):\n",
    "    height = rect.get_height()\n",
    "    ax.text(rect.get_x() + rect.get_width()/2, height + 5, label, ha='center', va='bottom');"
   ]
  },
  {
   "cell_type": "code",
   "execution_count": 21,
   "metadata": {},
   "outputs": [
    {
     "data": {
      "image/png": "[encoded data removed]",
      "text/plain": [
       "<Figure size 576x360 with 1 Axes>"
      ]
     },
     "metadata": {
      "needs_background": "light"
     },
     "output_type": "display_data"
    }
   ],
   "source": [
    "multilabel_count = rowsums.value_counts()\n",
    "\n",
    "plt.figure(figsize=(8,5))\n",
    "ax = sns.barplot(multilabel_count.index, multilabel_count.values)\n",
    "plt.title(\"Number of Category Per Comment\")\n",
    "plt.ylabel('Count')\n",
    "plt.xlabel('Number of Category')\n",
    "\n",
    "rects = ax.patches\n",
    "labels = multilabel_count.values\n",
    "for rect, label in zip(rects, labels):\n",
    "    height = rect.get_height()\n",
    "    ax.text(rect.get_x() + rect.get_width()/2, height + 5, label, ha='center', va='bottom');"
   ]
  },
  {
   "cell_type": "code",
   "execution_count": 24,
   "metadata": {},
   "outputs": [
    {
     "data": {
      "image/png": "[encoded data removed]",
      "text/plain": [
       "<Figure size 720x576 with 2 Axes>"
      ]
     },
     "metadata": {
      "needs_background": "light"
     },
     "output_type": "display_data"
    }
   ],
   "source": [
    "toxic_df=df.iloc[:,2:-1]\n",
    "\n",
    "matrix = np.triu(toxic_df.corr())\n",
    "\n",
    "plt.figure(figsize=(10,8))\n",
    "sns.heatmap(toxic_df.corr(), annot=True, square=True, \n",
    "            mask=matrix, cmap= 'coolwarm');"
   ]
  },
  {
   "cell_type": "code",
   "execution_count": 5,
   "metadata": {},
   "outputs": [
    {
     "data": {
      "text/plain": [
       "defaultdict(list,\n",
       "            {'toxic': [array(['may God spare your soul you are going to hell you worthless piece of shit. Maybe you will have fun when satan is ass fucking u instead of your queer little buddies fuck off and btw kick me off wikipedia you queer ass bitch fuck off and burn in hell bitch!'],\n",
       "                    dtype=object)],\n",
       "             'severe_toxic': [array(['\"\\n\\n FUCKER \\n\\nwhy don\\'t you get a real job instead of just looking for things you call \"\"vandalism\"\" when in reality it\\'s the truth.\"'],\n",
       "                    dtype=object)],\n",
       "             'obscene': [array([\"You are such a fucking faggot, there's no need for references for something that can't really be reliably cited. Even if there was a sociological study on people who have APD, coke drinkers, and cocaine users, it wouldn't be very reliable because there's no way to tell if people are lying. Fuck off you beaurocratic official peice of pedophile, and that citing and copyright shit has got to go. I refused to make bibliographies in high school for one reason: I never claimed that the work was mine, and I shouldn't have to claim who's it was because it's self-explanitory that I didn't make it since I didn't claim to have done so.\"],\n",
       "                    dtype=object)],\n",
       "             'threat': [array(['Fuck you nerd \\n\\nFuck you nercd get a life freak I will burn in hell now byy'],\n",
       "                    dtype=object)],\n",
       "             'insult': [array(['\"\\nFine. I was wrong. But calling others \"\"tedious drones\"\" or \"\"douches\"\" will get your ass kicked off the project.— (竜龙) \"'],\n",
       "                    dtype=object)],\n",
       "             'identity_hate': [array(['NIGGERS NIGGERS NIGGERS NIGGERS'], dtype=object)]})"
      ]
     },
     "execution_count": 5,
     "metadata": {},
     "output_type": "execute_result"
    }
   ],
   "source": [
    "##gets samples for each type of target column\n",
    "from collections import defaultdict\n",
    "\n",
    "sample_dict = defaultdict(list)\n",
    "\n",
    "target_col = ['toxic', 'severe_toxic', 'obscene', 'threat','insult', 'identity_hate']\n",
    "\n",
    "for i in target_col:\n",
    "    col_sample = df[df[i]==1]['comment_text'].sample(1).values\n",
    "    sample_dict[i].append(col_sample)\n",
    "\n",
    "sample_dict"
   ]
  },
  {
   "cell_type": "markdown",
   "metadata": {},
   "source": [
    "## Text Preprocessing"
   ]
  },
  {
   "cell_type": "code",
   "execution_count": 35,
   "metadata": {},
   "outputs": [],
   "source": [
    "def clean_text(raw_text):\n",
    "    \n",
    "    #convert all characters to lowercase\n",
    "    text = raw_text.lower()\n",
    "    \n",
    "    #remove http url links\n",
    "    text = re.sub('http.*.com', '',text)\n",
    "    \n",
    "    #remove new line '\\n'\n",
    "    text = re.sub('\\n', ' ', text)\n",
    "        \n",
    "    #convert accented characters to ASCII characters\n",
    "    text = unidecode.unidecode(text)\n",
    "    \n",
    "    #expand contractions\n",
    "    text = contractions.fix(text)\n",
    "    \n",
    "    # Fix other contractions / possessive\n",
    "    text = text.replace(\"'s\", '')\n",
    "    \n",
    "    #remove special characters and punctuations\n",
    "    text = re.sub('[^A-Za-z0-9]+', ' ', text)\n",
    "    \n",
    "    #remove extra white space\n",
    "    text = re.sub('\\s+', ' ', text)\n",
    "    \n",
    "    #remove stop words\n",
    "    cleaned_text = remove_stopwords(text)\n",
    "    \n",
    "    return cleaned_text"
   ]
  },
  {
   "cell_type": "code",
   "execution_count": 36,
   "metadata": {},
   "outputs": [],
   "source": [
    "df['cleaned_text'] = df['comment_text'].apply(lambda x: clean_text(x))"
   ]
  },
  {
   "cell_type": "code",
   "execution_count": 43,
   "metadata": {},
   "outputs": [
    {
     "data": {
      "text/html": [
       "<div>\n",
       "<style scoped>\n",
       "    .dataframe tbody tr th:only-of-type {\n",
       "        vertical-align: middle;\n",
       "    }\n",
       "\n",
       "    .dataframe tbody tr th {\n",
       "        vertical-align: top;\n",
       "    }\n",
       "\n",
       "    .dataframe thead th {\n",
       "        text-align: right;\n",
       "    }\n",
       "</style>\n",
       "<table border=\"1\" class=\"dataframe\">\n",
       "  <thead>\n",
       "    <tr style=\"text-align: right;\">\n",
       "      <th></th>\n",
       "      <th>id</th>\n",
       "      <th>comment_text</th>\n",
       "      <th>toxic</th>\n",
       "      <th>severe_toxic</th>\n",
       "      <th>obscene</th>\n",
       "      <th>threat</th>\n",
       "      <th>insult</th>\n",
       "      <th>identity_hate</th>\n",
       "      <th>clean</th>\n",
       "      <th>cleaned_text</th>\n",
       "    </tr>\n",
       "  </thead>\n",
       "  <tbody>\n",
       "    <tr>\n",
       "      <th>77849</th>\n",
       "      <td>d0790879ddba4808</td>\n",
       "      <td>\"\\n\\nFor the record, I am fine with this decis...</td>\n",
       "      <td>0</td>\n",
       "      <td>0</td>\n",
       "      <td>0</td>\n",
       "      <td>0</td>\n",
       "      <td>0</td>\n",
       "      <td>0</td>\n",
       "      <td>1</td>\n",
       "      <td>record fine decision told milo reverting delet...</td>\n",
       "    </tr>\n",
       "    <tr>\n",
       "      <th>34504</th>\n",
       "      <td>5c2566272ac70768</td>\n",
       "      <td>Well, that was an accident. But the article do...</td>\n",
       "      <td>0</td>\n",
       "      <td>0</td>\n",
       "      <td>0</td>\n",
       "      <td>0</td>\n",
       "      <td>0</td>\n",
       "      <td>0</td>\n",
       "      <td>1</td>\n",
       "      <td>accident article meet notability guidelines re...</td>\n",
       "    </tr>\n",
       "    <tr>\n",
       "      <th>56690</th>\n",
       "      <td>97762a862df67753</td>\n",
       "      <td>Done. Thanks for the tip.</td>\n",
       "      <td>0</td>\n",
       "      <td>0</td>\n",
       "      <td>0</td>\n",
       "      <td>0</td>\n",
       "      <td>0</td>\n",
       "      <td>0</td>\n",
       "      <td>1</td>\n",
       "      <td>thanks tip</td>\n",
       "    </tr>\n",
       "    <tr>\n",
       "      <th>156697</th>\n",
       "      <td>d256016de5f85081</td>\n",
       "      <td>Thank you \\n\\nHello Epbr123, I just wanted to ...</td>\n",
       "      <td>0</td>\n",
       "      <td>0</td>\n",
       "      <td>0</td>\n",
       "      <td>0</td>\n",
       "      <td>0</td>\n",
       "      <td>0</td>\n",
       "      <td>1</td>\n",
       "      <td>thank hello epbr123 wanted thank continually b...</td>\n",
       "    </tr>\n",
       "    <tr>\n",
       "      <th>159051</th>\n",
       "      <td>f7b7b1ae2ca0ad04</td>\n",
       "      <td>/online.dudley.gov.uk/news/fullrelease.asp?rec...</td>\n",
       "      <td>0</td>\n",
       "      <td>0</td>\n",
       "      <td>0</td>\n",
       "      <td>0</td>\n",
       "      <td>0</td>\n",
       "      <td>0</td>\n",
       "      <td>1</td>\n",
       "      <td>online dudley gov uk news fullrelease asp reci...</td>\n",
       "    </tr>\n",
       "  </tbody>\n",
       "</table>\n",
       "</div>"
      ],
      "text/plain": [
       "                      id                                       comment_text  \\\n",
       "77849   d0790879ddba4808  \"\\n\\nFor the record, I am fine with this decis...   \n",
       "34504   5c2566272ac70768  Well, that was an accident. But the article do...   \n",
       "56690   97762a862df67753                          Done. Thanks for the tip.   \n",
       "156697  d256016de5f85081  Thank you \\n\\nHello Epbr123, I just wanted to ...   \n",
       "159051  f7b7b1ae2ca0ad04  /online.dudley.gov.uk/news/fullrelease.asp?rec...   \n",
       "\n",
       "        toxic  severe_toxic  obscene  threat  insult  identity_hate  clean  \\\n",
       "77849       0             0        0       0       0              0      1   \n",
       "34504       0             0        0       0       0              0      1   \n",
       "56690       0             0        0       0       0              0      1   \n",
       "156697      0             0        0       0       0              0      1   \n",
       "159051      0             0        0       0       0              0      1   \n",
       "\n",
       "                                             cleaned_text  \n",
       "77849   record fine decision told milo reverting delet...  \n",
       "34504   accident article meet notability guidelines re...  \n",
       "56690                                          thanks tip  \n",
       "156697  thank hello epbr123 wanted thank continually b...  \n",
       "159051  online dudley gov uk news fullrelease asp reci...  "
      ]
     },
     "execution_count": 43,
     "metadata": {},
     "output_type": "execute_result"
    }
   ],
   "source": [
    "df.sample(5)"
   ]
  },
  {
   "cell_type": "markdown",
   "metadata": {},
   "source": [
    "### Lemmatization"
   ]
  },
  {
   "cell_type": "code",
   "execution_count": 45,
   "metadata": {},
   "outputs": [],
   "source": [
    "lemma = WordNetLemmatizer()\n",
    "  \n",
    "# Define function to lemmatize each word with its POS tag\n",
    "  \n",
    "def lemmatize_word(tagged_token):\n",
    "    \"\"\" Returns lemmatized word given its tag\"\"\"\n",
    "    root = []\n",
    "    for token in tagged_token:\n",
    "        tag = token[1][0]\n",
    "        word = token[0]\n",
    "        if tag.startswith('J'):\n",
    "            root.append(lemma.lemmatize(word, wordnet.ADJ))\n",
    "        elif tag.startswith('V'):\n",
    "            root.append(lemma.lemmatize(word, wordnet.VERB))\n",
    "        elif tag.startswith('N'):\n",
    "            root.append(lemma.lemmatize(word, wordnet.NOUN))\n",
    "        elif tag.startswith('R'):\n",
    "            root.append(lemma.lemmatize(word, wordnet.ADV))\n",
    "        else:          \n",
    "            root.append(word)\n",
    "    return root\n",
    "\n",
    "def lemmatize_doc(document):\n",
    "    \"\"\" Tags words then returns sentence with lemmatized words\"\"\"\n",
    "    lemmatized_list = []\n",
    "    tokenized_sent = sent_tokenize(document)\n",
    "    for sentence in tokenized_sent:\n",
    "        no_punctuation = re.sub(r\"[`'\\\",.!?()]\", \" \", sentence)\n",
    "        tokenized_word = word_tokenize(no_punctuation)\n",
    "        tagged_token = pos_tag(tokenized_word)\n",
    "        lemmatized = lemmatize_word(tagged_token)\n",
    "        lemmatized_list.extend(lemmatized)\n",
    "    return \" \".join(lemmatized_list)\n",
    "\n",
    "#apply our functions\n",
    "df[\"lemmatized_text\"] = df[\"cleaned_text\"].apply(lambda x: lemmatize_doc(x))\n"
   ]
  },
  {
   "cell_type": "code",
   "execution_count": 46,
   "metadata": {},
   "outputs": [
    {
     "data": {
      "text/html": [
       "<div>\n",
       "<style scoped>\n",
       "    .dataframe tbody tr th:only-of-type {\n",
       "        vertical-align: middle;\n",
       "    }\n",
       "\n",
       "    .dataframe tbody tr th {\n",
       "        vertical-align: top;\n",
       "    }\n",
       "\n",
       "    .dataframe thead th {\n",
       "        text-align: right;\n",
       "    }\n",
       "</style>\n",
       "<table border=\"1\" class=\"dataframe\">\n",
       "  <thead>\n",
       "    <tr style=\"text-align: right;\">\n",
       "      <th></th>\n",
       "      <th>id</th>\n",
       "      <th>comment_text</th>\n",
       "      <th>toxic</th>\n",
       "      <th>severe_toxic</th>\n",
       "      <th>obscene</th>\n",
       "      <th>threat</th>\n",
       "      <th>insult</th>\n",
       "      <th>identity_hate</th>\n",
       "      <th>clean</th>\n",
       "      <th>cleaned_text</th>\n",
       "      <th>lemmatized_text</th>\n",
       "    </tr>\n",
       "  </thead>\n",
       "  <tbody>\n",
       "    <tr>\n",
       "      <th>101789</th>\n",
       "      <td>20b7d7dec78ca06e</td>\n",
       "      <td>What do you mean by link spam! - These are not...</td>\n",
       "      <td>0</td>\n",
       "      <td>0</td>\n",
       "      <td>0</td>\n",
       "      <td>0</td>\n",
       "      <td>0</td>\n",
       "      <td>0</td>\n",
       "      <td>1</td>\n",
       "      <td>mean link spam bait links valid links resource...</td>\n",
       "      <td>mean link spam bait link valid link resource p...</td>\n",
       "    </tr>\n",
       "    <tr>\n",
       "      <th>114339</th>\n",
       "      <td>6390759e9d28c759</td>\n",
       "      <td>Men's movement in India\\nI don't believe this ...</td>\n",
       "      <td>0</td>\n",
       "      <td>0</td>\n",
       "      <td>0</td>\n",
       "      <td>0</td>\n",
       "      <td>0</td>\n",
       "      <td>0</td>\n",
       "      <td>1</td>\n",
       "      <td>men movement india believe redirect candidate ...</td>\n",
       "      <td>men movement india believe redirect candidate ...</td>\n",
       "    </tr>\n",
       "    <tr>\n",
       "      <th>67829</th>\n",
       "      <td>b5793bd45aaa7278</td>\n",
       "      <td>\"\\n\\n Category Junk \\n\\nMae West was many thin...</td>\n",
       "      <td>0</td>\n",
       "      <td>0</td>\n",
       "      <td>0</td>\n",
       "      <td>0</td>\n",
       "      <td>0</td>\n",
       "      <td>0</td>\n",
       "      <td>1</td>\n",
       "      <td>category junk mae west things inappropriate ca...</td>\n",
       "      <td>category junk mae west thing inappropriate cat...</td>\n",
       "    </tr>\n",
       "    <tr>\n",
       "      <th>149406</th>\n",
       "      <td>5bc8c06153057784</td>\n",
       "      <td>fuck all wikipedians...(and sinneed)...ah yes ...</td>\n",
       "      <td>1</td>\n",
       "      <td>0</td>\n",
       "      <td>1</td>\n",
       "      <td>0</td>\n",
       "      <td>0</td>\n",
       "      <td>0</td>\n",
       "      <td>0</td>\n",
       "      <td>fuck wikipedians sinneed ah yes returned</td>\n",
       "      <td>fuck wikipedians sinneed ah yes return</td>\n",
       "    </tr>\n",
       "    <tr>\n",
       "      <th>65285</th>\n",
       "      <td>aeb03a43c0e522c6</td>\n",
       "      <td>\"\\n\\nFair use rationale for Image:Loleatta Hol...</td>\n",
       "      <td>0</td>\n",
       "      <td>0</td>\n",
       "      <td>0</td>\n",
       "      <td>0</td>\n",
       "      <td>0</td>\n",
       "      <td>0</td>\n",
       "      <td>1</td>\n",
       "      <td>fair use rationale image loleatta holloway jpg...</td>\n",
       "      <td>fair use rationale image loleatta holloway jpg...</td>\n",
       "    </tr>\n",
       "  </tbody>\n",
       "</table>\n",
       "</div>"
      ],
      "text/plain": [
       "                      id                                       comment_text  \\\n",
       "101789  20b7d7dec78ca06e  What do you mean by link spam! - These are not...   \n",
       "114339  6390759e9d28c759  Men's movement in India\\nI don't believe this ...   \n",
       "67829   b5793bd45aaa7278  \"\\n\\n Category Junk \\n\\nMae West was many thin...   \n",
       "149406  5bc8c06153057784  fuck all wikipedians...(and sinneed)...ah yes ...   \n",
       "65285   aeb03a43c0e522c6  \"\\n\\nFair use rationale for Image:Loleatta Hol...   \n",
       "\n",
       "        toxic  severe_toxic  obscene  threat  insult  identity_hate  clean  \\\n",
       "101789      0             0        0       0       0              0      1   \n",
       "114339      0             0        0       0       0              0      1   \n",
       "67829       0             0        0       0       0              0      1   \n",
       "149406      1             0        1       0       0              0      0   \n",
       "65285       0             0        0       0       0              0      1   \n",
       "\n",
       "                                             cleaned_text  \\\n",
       "101789  mean link spam bait links valid links resource...   \n",
       "114339  men movement india believe redirect candidate ...   \n",
       "67829   category junk mae west things inappropriate ca...   \n",
       "149406           fuck wikipedians sinneed ah yes returned   \n",
       "65285   fair use rationale image loleatta holloway jpg...   \n",
       "\n",
       "                                          lemmatized_text  \n",
       "101789  mean link spam bait link valid link resource p...  \n",
       "114339  men movement india believe redirect candidate ...  \n",
       "67829   category junk mae west thing inappropriate cat...  \n",
       "149406             fuck wikipedians sinneed ah yes return  \n",
       "65285   fair use rationale image loleatta holloway jpg...  "
      ]
     },
     "execution_count": 46,
     "metadata": {},
     "output_type": "execute_result"
    }
   ],
   "source": [
    "df.sample(5)"
   ]
  },
  {
   "cell_type": "markdown",
   "metadata": {},
   "source": [
    "### Unigram"
   ]
  },
  {
   "cell_type": "code",
   "execution_count": 48,
   "metadata": {},
   "outputs": [],
   "source": [
    "corpus = df.lemmatized_text\n",
    "\n",
    "tfv = TfidfVectorizer(min_df=200,  max_features=10000, \n",
    "            analyzer='word',ngram_range=(1,1),\n",
    "            use_idf=1,smooth_idf=1,sublinear_tf=1,\n",
    "            stop_words = 'english')\n",
    "tfv.fit(corpus)\n",
    "features = np.array(tfv.get_feature_names())\n",
    "\n",
    "train_tags=df.iloc[:,2:9]\n",
    "\n",
    "df_unigrams = tfv.transform(corpus.iloc[:df.shape[0]])"
   ]
  },
  {
   "cell_type": "code",
   "execution_count": 56,
   "metadata": {},
   "outputs": [],
   "source": [
    "def top_tfidf_feats(row, features, top_n=25):\n",
    "    ''' Get top n tfidf values in row and return them with their corresponding feature names.'''\n",
    "    topn_ids = np.argsort(row)[::-1][:top_n]\n",
    "    top_feats = [(features[i], row[i]) for i in topn_ids]\n",
    "    df = pd.DataFrame(top_feats)\n",
    "    df.columns = ['feature', 'tfidf']\n",
    "    return df\n",
    "\n",
    "def top_feats_in_doc(Xtr, features, row_id, top_n=25):\n",
    "    ''' Top tfidf features in specific document (matrix row) '''\n",
    "    row = np.squeeze(Xtr[row_id].toarray())\n",
    "    return top_tfidf_feats(row, features, top_n)\n",
    "\n",
    "def top_mean_feats(Xtr, features, grp_ids, min_tfidf=0.1, top_n=25):\n",
    "    ''' Return the top n features that on average are most important amongst documents in rows\n",
    "        indentified by indices in grp_ids. '''\n",
    "    \n",
    "    D = Xtr[grp_ids].toarray()\n",
    "\n",
    "    D[D < min_tfidf] = 0\n",
    "    tfidf_means = np.mean(D, axis=0)\n",
    "    return top_tfidf_feats(tfidf_means, features, top_n)\n",
    "\n",
    "# modified for multilabel milticlass\n",
    "def top_feats_by_class(Xtr, features, min_tfidf=0.1, top_n=20):\n",
    "    ''' Return a list of dfs, where each df holds top_n features and their mean tfidf value\n",
    "        calculated across documents with the same class label. '''\n",
    "    dfs = []\n",
    "    cols=train_tags.columns\n",
    "    for col in cols:\n",
    "        ids = train_tags.index[train_tags[col]==1]\n",
    "        feats_df = top_mean_feats(Xtr, features, ids, min_tfidf=min_tfidf, top_n=top_n)\n",
    "        feats_df.label = label\n",
    "        dfs.append(feats_df)\n",
    "    return dfs"
   ]
  },
  {
   "cell_type": "code",
   "execution_count": 57,
   "metadata": {},
   "outputs": [],
   "source": [
    "#get top n for unigrams\n",
    "tfidf_top_n_unigram=top_feats_by_class(df_unigrams,features)"
   ]
  },
  {
   "cell_type": "code",
   "execution_count": 68,
   "metadata": {},
   "outputs": [
    {
     "data": {
      "image/png": "[encoded data removed]",
      "text/plain": [
       "<Figure size 1152x1584 with 7 Axes>"
      ]
     },
     "metadata": {
      "needs_background": "light"
     },
     "output_type": "display_data"
    }
   ],
   "source": [
    "plt.figure(figsize=(16,22))\n",
    "plt.suptitle(\"TF_IDF Top Words Per Label (Unigrams)\", fontsize=20)\n",
    "gridspec.GridSpec(4,2)\n",
    "plt.subplot2grid((4,2),(0,0))\n",
    "sns.barplot(tfidf_top_n_unigram[0].feature.iloc[0:9],tfidf_top_n_unigram[0].tfidf.iloc[0:9],color=color[0])\n",
    "plt.title(\"Label: Toxic\",fontsize=15)\n",
    "plt.xlabel('Word', fontsize=12)\n",
    "plt.ylabel('TF-IDF score', fontsize=12)\n",
    "\n",
    "plt.subplot2grid((4,2),(0,1))\n",
    "sns.barplot(tfidf_top_n_unigram[1].feature.iloc[0:9],tfidf_top_n_unigram[1].tfidf.iloc[0:9],color=color[1])\n",
    "plt.title(\"Label: Severe toxic\",fontsize=15)\n",
    "plt.xlabel('Word', fontsize=12)\n",
    "plt.ylabel('TF-IDF score', fontsize=12)\n",
    "\n",
    "\n",
    "plt.subplot2grid((4,2),(1,0))\n",
    "sns.barplot(tfidf_top_n_unigram[2].feature.iloc[0:9],tfidf_top_n_unigram[2].tfidf.iloc[0:9],color=color[2])\n",
    "plt.title(\"Label: Obscene\",fontsize=15)\n",
    "plt.xlabel('Word', fontsize=12)\n",
    "plt.ylabel('TF-IDF score', fontsize=12)\n",
    "\n",
    "\n",
    "plt.subplot2grid((4,2),(1,1))\n",
    "sns.barplot(tfidf_top_n_unigram[3].feature.iloc[0:9],tfidf_top_n_unigram[3].tfidf.iloc[0:9],color=color[3])\n",
    "plt.title(\"Label: Threat\",fontsize=15)\n",
    "plt.xlabel('Word', fontsize=12)\n",
    "plt.ylabel('TF-IDF score', fontsize=12)\n",
    "\n",
    "\n",
    "plt.subplot2grid((4,2),(2,0))\n",
    "sns.barplot(tfidf_top_n_unigram[4].feature.iloc[0:9],tfidf_top_n_unigram[4].tfidf.iloc[0:9],color=color[4])\n",
    "plt.title(\"Label: Insult\",fontsize=15)\n",
    "plt.xlabel('Word', fontsize=12)\n",
    "plt.ylabel('TF-IDF score', fontsize=12)\n",
    "\n",
    "\n",
    "plt.subplot2grid((4,2),(2,1))\n",
    "sns.barplot(tfidf_top_n_unigram[5].feature.iloc[0:9],tfidf_top_n_per_lass[5].tfidf.iloc[0:9],color=color[5])\n",
    "plt.title(\"Label: Identity hate\",fontsize=15)\n",
    "plt.xlabel('Word', fontsize=12)\n",
    "plt.ylabel('TF-IDF score', fontsize=12)\n",
    "\n",
    "\n",
    "plt.subplot2grid((4,2),(3,0),colspan=2)\n",
    "sns.barplot(tfidf_top_n_unigram[6].feature.iloc[0:19],tfidf_top_n_unigram[6].tfidf.iloc[0:19])\n",
    "plt.title(\"Label: Clean\",fontsize=15)\n",
    "plt.xlabel('Word', fontsize=12)\n",
    "plt.ylabel('TF-IDF score', fontsize=12)\n",
    "\n",
    "plt.show()"
   ]
  },
  {
   "cell_type": "markdown",
   "metadata": {},
   "source": [
    "### Bigrams"
   ]
  },
  {
   "cell_type": "code",
   "execution_count": 63,
   "metadata": {},
   "outputs": [],
   "source": [
    "tfv = TfidfVectorizer(min_df=150,  max_features=30000, \n",
    "            analyzer='word',ngram_range=(2,2),\n",
    "            use_idf=1,smooth_idf=1,sublinear_tf=1,\n",
    "            stop_words = 'english')\n",
    "\n",
    "tfv.fit(corpus)\n",
    "features = np.array(tfv.get_feature_names())\n",
    "df_bigrams =  tfv.transform(corpus.iloc[:df.shape[0]])"
   ]
  },
  {
   "cell_type": "code",
   "execution_count": 64,
   "metadata": {},
   "outputs": [],
   "source": [
    "#get top n for bigrams\n",
    "tfidf_top_n_bigram=top_feats_by_class(df_bigrams,features)"
   ]
  },
  {
   "cell_type": "code",
   "execution_count": 65,
   "metadata": {},
   "outputs": [
    {
     "data": {
      "image/png": "[encoded data removed]",
      "text/plain": [
       "<Figure size 1152x1584 with 7 Axes>"
      ]
     },
     "metadata": {
      "needs_background": "light"
     },
     "output_type": "display_data"
    }
   ],
   "source": [
    "plt.figure(figsize=(16,22))\n",
    "plt.suptitle(\"TF_IDF Top Words Per Label (Bigrams)\",fontsize=20)\n",
    "gridspec.GridSpec(4,2)\n",
    "plt.subplot2grid((4,2),(0,0))\n",
    "sns.barplot(tfidf_top_n_bigram[0].feature.iloc[0:5],tfidf_top_n_bigram[0].tfidf.iloc[0:5],color=color[0])\n",
    "plt.title(\"Label: Toxic\",fontsize=15)\n",
    "plt.xlabel('Word', fontsize=12)\n",
    "plt.ylabel('TF-IDF score', fontsize=12)\n",
    "\n",
    "plt.subplot2grid((4,2),(0,1))\n",
    "sns.barplot(tfidf_top_n_bigram[1].feature.iloc[0:5],tfidf_top_n_bigram[1].tfidf.iloc[0:5],color=color[1])\n",
    "plt.title(\"Label: Severe toxic\",fontsize=15)\n",
    "plt.xlabel('Word', fontsize=12)\n",
    "plt.ylabel('TF-IDF score', fontsize=12)\n",
    "\n",
    "\n",
    "plt.subplot2grid((4,2),(1,0))\n",
    "sns.barplot(tfidf_top_n_bigram[2].feature.iloc[0:5],tfidf_top_n_bigram[2].tfidf.iloc[0:5],color=color[2])\n",
    "plt.title(\"Label: Obscene\",fontsize=15)\n",
    "plt.xlabel('Word', fontsize=12)\n",
    "plt.ylabel('TF-IDF score', fontsize=12)\n",
    "\n",
    "\n",
    "plt.subplot2grid((4,2),(1,1))\n",
    "sns.barplot(tfidf_top_n_bigram[3].feature.iloc[0:5],tfidf_top_n_bigram[3].tfidf.iloc[0:5],color=color[3])\n",
    "plt.title(\"Label: Threat\",fontsize=15)\n",
    "plt.xlabel('Word', fontsize=12)\n",
    "plt.ylabel('TF-IDF score', fontsize=12)\n",
    "\n",
    "\n",
    "plt.subplot2grid((4,2),(2,0))\n",
    "sns.barplot(tfidf_top_n_bigram[4].feature.iloc[0:5],tfidf_top_n_bigram[4].tfidf.iloc[0:5],color=color[4])\n",
    "plt.title(\"Label: Insult\",fontsize=15)\n",
    "plt.xlabel('Word', fontsize=12)\n",
    "plt.ylabel('TF-IDF score', fontsize=12)\n",
    "\n",
    "\n",
    "plt.subplot2grid((4,2),(2,1))\n",
    "sns.barplot(tfidf_top_n_bigram[5].feature.iloc[0:5],tfidf_top_n_bigram[5].tfidf.iloc[0:5],color=color[5])\n",
    "plt.title(\"Label: Identity hate\",fontsize=15)\n",
    "plt.xlabel('Word', fontsize=12)\n",
    "plt.ylabel('TF-IDF score', fontsize=12)\n",
    "\n",
    "\n",
    "plt.subplot2grid((4,2),(3,0),colspan=2)\n",
    "sns.barplot(tfidf_top_n_bigram[6].feature.iloc[0:9],tfidf_top_n_bigram[6].tfidf.iloc[0:9])\n",
    "plt.title(\"Label: Clean\",fontsize=15)\n",
    "plt.xlabel('Word', fontsize=12)\n",
    "plt.ylabel('TF-IDF score', fontsize=12)\n",
    "\n",
    "plt.show()"
   ]
  },
  {
   "cell_type": "markdown",
   "metadata": {},
   "source": [
    "## Modeling"
   ]
  },
  {
   "cell_type": "markdown",
   "metadata": {},
   "source": [
    "### Class imbalance: undersample majority class non-toxic"
   ]
  },
  {
   "cell_type": "code",
   "execution_count": 69,
   "metadata": {},
   "outputs": [
    {
     "data": {
      "text/plain": [
       "0    143346\n",
       "1     16225\n",
       "Name: harmful, dtype: int64"
      ]
     },
     "execution_count": 69,
     "metadata": {},
     "output_type": "execute_result"
    }
   ],
   "source": [
    "rowsums=df.iloc[:,2:8].sum(axis=1)\n",
    "df['harmful']=(rowsums!=0).astype(int)\n",
    "\n",
    "df.harmful.value_counts()"
   ]
  },
  {
   "cell_type": "code",
   "execution_count": 22,
   "metadata": {},
   "outputs": [
    {
     "data": {
      "image/png": "[encoded data removed]",
      "text/plain": [
       "<Figure size 432x288 with 1 Axes>"
      ]
     },
     "metadata": {
      "needs_background": "light"
     },
     "output_type": "display_data"
    }
   ],
   "source": [
    "ax = sns.countplot(df['harmful'])\n",
    "ax.set(ylabel='Count', xlabel='Clean (0) vs. Harmful (1) comments');"
   ]
  },
  {
   "cell_type": "code",
   "execution_count": 70,
   "metadata": {},
   "outputs": [],
   "source": [
    "# Separate data into harmful comments and non-harmful comments\n",
    "clean_data = df[df.harmful == 0]\n",
    "harmful_data = df[df.harmful == 1]\n",
    "\n",
    "maj_class = clean_data.sample(frac=0.113)"
   ]
  },
  {
   "cell_type": "code",
   "execution_count": 71,
   "metadata": {},
   "outputs": [],
   "source": [
    "new_df = pd.concat([maj_class, harmful_data], axis=0)"
   ]
  },
  {
   "cell_type": "code",
   "execution_count": 72,
   "metadata": {},
   "outputs": [
    {
     "data": {
      "text/plain": [
       "1    16225\n",
       "0    16198\n",
       "Name: harmful, dtype: int64"
      ]
     },
     "execution_count": 72,
     "metadata": {},
     "output_type": "execute_result"
    }
   ],
   "source": [
    "new_df.harmful.value_counts()"
   ]
  },
  {
   "cell_type": "code",
   "execution_count": 73,
   "metadata": {},
   "outputs": [
    {
     "data": {
      "image/png": "[encoded data removed]",
      "text/plain": [
       "<Figure size 432x288 with 1 Axes>"
      ]
     },
     "metadata": {
      "needs_background": "light"
     },
     "output_type": "display_data"
    }
   ],
   "source": [
    "ax = sns.countplot(new_df['harmful'])\n",
    "ax.set(ylabel='Count', xlabel='Clean (0) vs. Harmful (1) comments');"
   ]
  },
  {
   "cell_type": "markdown",
   "metadata": {},
   "source": [
    "### Split data into train, test"
   ]
  },
  {
   "cell_type": "code",
   "execution_count": 84,
   "metadata": {},
   "outputs": [],
   "source": [
    "X = new_df.lemmatized_text.values\n",
    "y = new_df.harmful.values"
   ]
  },
  {
   "cell_type": "code",
   "execution_count": 85,
   "metadata": {},
   "outputs": [],
   "source": [
    "X_train, X_test, y_train, y_test = train_test_split(X, y, test_size=0.3, random_state=42)"
   ]
  },
  {
   "cell_type": "code",
   "execution_count": 118,
   "metadata": {},
   "outputs": [],
   "source": [
    "# Create list of model and accuracy dicts\n",
    "list_of_perform = []\n",
    "\n",
    "# List to keep track of models\n",
    "models = []\n",
    "\n",
    "# List to keep track of y_scores\n",
    "y_scores = []"
   ]
  },
  {
   "cell_type": "markdown",
   "metadata": {},
   "source": [
    "### Naive Bayes"
   ]
  },
  {
   "cell_type": "code",
   "execution_count": 92,
   "metadata": {},
   "outputs": [
    {
     "data": {
      "text/plain": [
       "GridSearchCV(estimator=Pipeline(steps=[('tfidf', TfidfVectorizer()),\n",
       "                                       ('nb', MultinomialNB())]),\n",
       "             n_jobs=-1,\n",
       "             param_grid={'nb__alpha': (1, 0.1, 0.01, 0.001, 0.0001, 1e-05),\n",
       "                         'tfidf__max_df': (0.75, 0.8, 0.85, 0.9, 0.95, 1.0),\n",
       "                         'tfidf__min_df': (0.001, 0.01, 0.1)},\n",
       "             scoring='f1')"
      ]
     },
     "execution_count": 92,
     "metadata": {},
     "output_type": "execute_result"
    }
   ],
   "source": [
    "text_pipe_nb = Pipeline([('tfidf', TfidfVectorizer()), ('nb', MultinomialNB())])\n",
    "\n",
    "parameters = {'tfidf__max_df': (0.75, 0.80, 0.85, 0.90, 0.95, 1.0),\\\n",
    "              'tfidf__min_df': (0.001,0.01,0.1),\\\n",
    "              'nb__alpha': (1, 0.1, 0.01, 0.001, 0.0001, 0.00001)}\n",
    "\n",
    "nb_gs = GridSearchCV(text_pipe_nb, parameters, n_jobs=-1, scoring = 'f1')\n",
    "\n",
    "nb_gs.fit(X_train, y_train)"
   ]
  },
  {
   "cell_type": "code",
   "execution_count": 94,
   "metadata": {},
   "outputs": [
    {
     "name": "stdout",
     "output_type": "stream",
     "text": [
      "Best params: {'nb__alpha': 0.01, 'tfidf__max_df': 0.75, 'tfidf__min_df': 0.001}\n"
     ]
    }
   ],
   "source": [
    "print(f'Best params: {nb_gs.best_params_}')"
   ]
  },
  {
   "cell_type": "code",
   "execution_count": 97,
   "metadata": {},
   "outputs": [
    {
     "name": "stdout",
     "output_type": "stream",
     "text": [
      "Accuracy of NB train: 0.8761018602362493\n",
      "Accuracy of NB test: 0.8732394366197183\n",
      "\n",
      "Precision : 0.8733250073824915\n",
      "Recall    : 0.873292051119875\n",
      "F-score   : 0.8732386649144657\n"
     ]
    }
   ],
   "source": [
    "nb_tfidf = nb_gs.best_estimator_\n",
    "\n",
    "# Calculate accuracy of train\n",
    "nb_acc = cross_val_score(nb_tfidf, X_train, y_train).mean()\n",
    "print(f'Accuracy of NB train: {nb_acc}')\n",
    "\n",
    "# Fit model\n",
    "nb_tfidf.fit(X_train, y_train)\n",
    "\n",
    "# Get predictions and probabilities\n",
    "nb_preds = nb_tfidf.predict(X_test)\n",
    "nb_y_score = nb_tfidf.predict_proba(X_test)\n",
    "\n",
    "# Calculate accuracy of test\n",
    "nb_acc_test = accuracy_score(y_test, nb_preds)\n",
    "print(f'Accuracy of NB test: {nb_acc_test}')\n",
    "\n",
    "print()\n",
    "\n",
    "# Get precision, recall, f1-score\n",
    "precision, recall, fscore, support = score(y_test, nb_preds, average='macro')\n",
    "print(f'Precision : {precision}')\n",
    "print(f'Recall    : {recall}')\n",
    "print(f'F-score   : {fscore}')"
   ]
  },
  {
   "cell_type": "code",
   "execution_count": 120,
   "metadata": {},
   "outputs": [],
   "source": [
    "list_of_perform.append(dict([\n",
    "    ('Model', 'Naive Bayes'),\n",
    "    ('Train Accuracy', round(nb_acc, 2)),\n",
    "    ('Test Accuracy', round(nb_acc_test,2)),\n",
    "    ('Precision', round(precision, 2)),\n",
    "    ('Recall', round(recall, 2)),\n",
    "    ('F1', round(fscore, 2))\n",
    "     ]))\n",
    "\n",
    "# Add model to list\n",
    "models.append('Naive Bayes')\n",
    "\n",
    "# Add y_score to list\n",
    "y_scores.append(nb_y_score)"
   ]
  },
  {
   "cell_type": "markdown",
   "metadata": {},
   "source": [
    "### Logistic Regression"
   ]
  },
  {
   "cell_type": "code",
   "execution_count": 105,
   "metadata": {},
   "outputs": [
    {
     "data": {
      "text/plain": [
       "GridSearchCV(estimator=Pipeline(steps=[('tfidf', TfidfVectorizer()),\n",
       "                                       ('lr', LogisticRegression())]),\n",
       "             n_jobs=-1,\n",
       "             param_grid={'lr__C': (0.01, 0.1, 1),\n",
       "                         'lr__class_weight': (None, 'balanced'),\n",
       "                         'lr__penalty': ('l1', 'l2'),\n",
       "                         'tfidf__max_df': (0.75, 0.8, 0.85, 0.9, 0.95, 1.0),\n",
       "                         'tfidf__min_df': (0.001, 0.01, 0.1)},\n",
       "             scoring='f1')"
      ]
     },
     "execution_count": 105,
     "metadata": {},
     "output_type": "execute_result"
    }
   ],
   "source": [
    "text_pipe_lr = Pipeline([('tfidf', TfidfVectorizer()), ('lr', LogisticRegression())])\n",
    "\n",
    "lr_parameters = {'tfidf__max_df': (0.75, 0.80, 0.85, 0.90, 0.95, 1.0),\\\n",
    "             'tfidf__min_df': (0.001,0.01,0.1),\\\n",
    "             'lr__penalty': ('l1','l2'),\\\n",
    "               'lr__C': (0.01, 0.1, 1),\\\n",
    "               'lr__class_weight': (None, 'balanced')}\n",
    "\n",
    "lr_gs = GridSearchCV(text_pipe_lr, lr_parameters, n_jobs=-1, scoring='f1')\n",
    "\n",
    "lr_gs.fit(X_train, y_train)"
   ]
  },
  {
   "cell_type": "code",
   "execution_count": 106,
   "metadata": {},
   "outputs": [
    {
     "name": "stdout",
     "output_type": "stream",
     "text": [
      "Best params: {'lr__C': 1, 'lr__class_weight': None, 'lr__penalty': 'l2', 'tfidf__max_df': 0.75, 'tfidf__min_df': 0.001}\n"
     ]
    }
   ],
   "source": [
    "print(f'Best params: {lr_gs.best_params_}')"
   ]
  },
  {
   "cell_type": "code",
   "execution_count": 117,
   "metadata": {},
   "outputs": [
    {
     "name": "stdout",
     "output_type": "stream",
     "text": [
      "Accuracy of LR train: 0.8904654521314541\n",
      "Accuracy of LR test: 0.8890716562146602\n",
      "\n",
      "Precision : 0.8908464494152264\n",
      "Recall    : 0.8888559162951789\n",
      "F-score   : 0.8889020994138794\n"
     ]
    }
   ],
   "source": [
    "lr_tfidf = lr_gs.best_estimator_\n",
    "\n",
    "# Calculate accuracy of train\n",
    "lr_acc = cross_val_score(lr_tfidf, X_train, y_train).mean()\n",
    "print(f'Accuracy of LR train: {lr_acc}')\n",
    "\n",
    "# Fit model\n",
    "lr_tfidf.fit(X_train, y_train)\n",
    "\n",
    "# Get predictions and probabilities\n",
    "lr_preds = lr_tfidf.predict(X_test)\n",
    "lr_y_score = lr_tfidf.predict_proba(X_test)\n",
    "\n",
    "# Calculate accuracy of test\n",
    "lr_acc_test = accuracy_score(y_test, lr_preds)\n",
    "print(f'Accuracy of LR test: {lr_acc_test}')\n",
    "\n",
    "print()\n",
    "\n",
    "# Get precision, recall, f1-score\n",
    "precision, recall, fscore, support = score(y_test, lr_preds, average='macro')\n",
    "print(f'Precision : {precision}')\n",
    "print(f'Recall    : {recall}')\n",
    "print(f'F-score   : {fscore}')"
   ]
  },
  {
   "cell_type": "code",
   "execution_count": 122,
   "metadata": {},
   "outputs": [],
   "source": [
    "list_of_perform.append(dict([\n",
    "    ('Model', 'Logistic Regression'),\n",
    "    ('Train Accuracy', round(lr_acc, 2)),\n",
    "    ('Test Accuracy', round(lr_acc_test,2)),\n",
    "    ('Precision', round(precision, 2)),\n",
    "    ('Recall', round(recall, 2)),\n",
    "    ('F1', round(fscore, 2))\n",
    "     ]))\n",
    "\n",
    "# Add model to list\n",
    "models.append('Logistic Regression')\n",
    "\n",
    "# Add y_score to list\n",
    "y_scores.append(lr_y_score)"
   ]
  },
  {
   "cell_type": "markdown",
   "metadata": {},
   "source": [
    "### Random Forest"
   ]
  },
  {
   "cell_type": "code",
   "execution_count": 112,
   "metadata": {},
   "outputs": [
    {
     "data": {
      "text/plain": [
       "GridSearchCV(estimator=Pipeline(steps=[('tfidf', TfidfVectorizer()),\n",
       "                                       ('rf', RandomForestClassifier())]),\n",
       "             n_jobs=-1,\n",
       "             param_grid={'rf__class_weight': (None, 'balanced'),\n",
       "                         'rf__criterion': ('gini', 'entropy'),\n",
       "                         'rf__n_estimators': (50, 100, 200),\n",
       "                         'tfidf__min_df': (0.001, 0.01, 0.1)},\n",
       "             scoring='f1')"
      ]
     },
     "execution_count": 112,
     "metadata": {},
     "output_type": "execute_result"
    }
   ],
   "source": [
    "text_pipe_rf = Pipeline([('tfidf', TfidfVectorizer()), ('rf', RandomForestClassifier())])\n",
    "\n",
    "rf_parameters = {'tfidf__min_df': (0.75, 0.80, 0.85, 0.90, 0.95, 1.0),\\\n",
    "             'tfidf__min_df': (0.001,0.01,0.1),\\\n",
    "            'rf__n_estimators': (50, 100, 200),\\\n",
    "                 'rf__criterion': ('gini', 'entropy'),\\\n",
    "               'rf__class_weight': (None, 'balanced')}\n",
    "\n",
    "rf_gs = GridSearchCV(text_pipe_rf, rf_parameters, n_jobs=-1, scoring='f1')\n",
    "\n",
    "rf_gs.fit(X_train, y_train)"
   ]
  },
  {
   "cell_type": "code",
   "execution_count": 113,
   "metadata": {},
   "outputs": [
    {
     "name": "stdout",
     "output_type": "stream",
     "text": [
      "Best params: {'rf__class_weight': None, 'rf__criterion': 'entropy', 'rf__n_estimators': 200, 'tfidf__min_df': 0.001}\n"
     ]
    }
   ],
   "source": [
    "print(f'Best params: {rf_gs.best_params_}')"
   ]
  },
  {
   "cell_type": "code",
   "execution_count": 124,
   "metadata": {},
   "outputs": [
    {
     "name": "stdout",
     "output_type": "stream",
     "text": [
      "Accuracy of RF train: 0.8749124620397086\n",
      "Accuracy of RF test: 0.8760152153798705\n",
      "\n",
      "Precision : 0.8795339391070872\n",
      "Recall    : 0.8757050375772006\n",
      "F-score   : 0.8756584902118107\n"
     ]
    }
   ],
   "source": [
    "rf_tfidf = rf_gs.best_estimator_\n",
    "\n",
    "# Calculate accuracy of train\n",
    "rf_acc = cross_val_score(rf_tfidf, X_train, y_train).mean()\n",
    "print(f'Accuracy of RF train: {rf_acc}')\n",
    "\n",
    "# Fit model\n",
    "rf_tfidf.fit(X_train, y_train)\n",
    "\n",
    "# Get predictions and probabilities\n",
    "rf_preds = rf_tfidf.predict(X_test)\n",
    "rf_y_score = rf_tfidf.predict_proba(X_test)\n",
    "\n",
    "# Calculate accuracy of test\n",
    "rf_acc_test = accuracy_score(y_test, rf_preds)\n",
    "print(f'Accuracy of RF test: {rf_acc_test}')\n",
    "\n",
    "print()\n",
    "\n",
    "# Get precision, recall, f1-score\n",
    "precision, recall, fscore, support = score(y_test, rf_preds, average='macro')\n",
    "print(f'Precision : {precision}')\n",
    "print(f'Recall    : {recall}')\n",
    "print(f'F-score   : {fscore}')"
   ]
  },
  {
   "cell_type": "code",
   "execution_count": 125,
   "metadata": {},
   "outputs": [],
   "source": [
    "list_of_perform.append(dict([\n",
    "    ('Model', 'Random Forest'),\n",
    "    ('Train Accuracy', round(rf_acc, 2)),\n",
    "    ('Test Accuracy', round(rf_acc_test,2)),\n",
    "    ('Precision', round(precision, 2)),\n",
    "    ('Recall', round(recall, 2)),\n",
    "    ('F1', round(fscore, 2))\n",
    "     ]))\n",
    "\n",
    "# Add model to list\n",
    "models.append('Random Forest')\n",
    "\n",
    "# Add y_score to list\n",
    "y_scores.append(rf_y_score)"
   ]
  },
  {
   "cell_type": "markdown",
   "metadata": {},
   "source": [
    "### SVM"
   ]
  },
  {
   "cell_type": "code",
   "execution_count": 127,
   "metadata": {},
   "outputs": [
    {
     "data": {
      "text/plain": [
       "GridSearchCV(estimator=Pipeline(steps=[('tfidf', TfidfVectorizer()),\n",
       "                                       ('svm', SVC(probability=True))]),\n",
       "             n_jobs=-1,\n",
       "             param_grid={'svm__C': (1, 10, 100, 1000),\n",
       "                         'svm__class_weight': (None, 'balanced'),\n",
       "                         'svm__degree': (1, 2, 3),\n",
       "                         'tfidf__min_df': (0.001, 0.01, 0.1)},\n",
       "             scoring='f1')"
      ]
     },
     "execution_count": 127,
     "metadata": {},
     "output_type": "execute_result"
    }
   ],
   "source": [
    "text_pipe_svc = Pipeline([('tfidf', TfidfVectorizer()), ('svm', SVC(probability=True))])\n",
    "\n",
    "svc_parameters = {'tfidf__min_df': (0.75, 0.80, 0.85, 0.90, 0.95, 1.0),\\\n",
    "             'tfidf__min_df': (0.001,0.01,0.1),\\\n",
    "            'svm__C': (1, 10, 100, 1000),\\\n",
    "                 'svm__degree': (1, 2, 3),\\\n",
    "                 'svm__class_weight': (None, 'balanced')}\n",
    "\n",
    "svc_gs = GridSearchCV(text_pipe_svc, svc_parameters, n_jobs=-1, scoring='f1')\n",
    "\n",
    "svc_gs.fit(X_train, y_train)"
   ]
  },
  {
   "cell_type": "code",
   "execution_count": 128,
   "metadata": {},
   "outputs": [
    {
     "name": "stdout",
     "output_type": "stream",
     "text": [
      "Best params: {'svm__C': 10, 'svm__class_weight': 'balanced', 'svm__degree': 1, 'tfidf__min_df': 0.001}\n"
     ]
    }
   ],
   "source": [
    "print(f'Best params: {svc_gs.best_params_}')"
   ]
  },
  {
   "cell_type": "code",
   "execution_count": 129,
   "metadata": {},
   "outputs": [
    {
     "name": "stdout",
     "output_type": "stream",
     "text": [
      "Accuracy of SVC train: 0.8902893571426492\n",
      "Accuracy of SVC test: 0.8904081422843632\n",
      "\n",
      "Precision : 0.8915850790395781\n",
      "Recall    : 0.8902330775761184\n",
      "F-score   : 0.8902901457716272\n"
     ]
    }
   ],
   "source": [
    "svc_tfidf = svc_gs.best_estimator_\n",
    "\n",
    "# Calculate accuracy of train\n",
    "svc_acc = cross_val_score(svc_tfidf, X_train, y_train).mean()\n",
    "print(f'Accuracy of SVC train: {svc_acc}')\n",
    "\n",
    "# Fit model\n",
    "svc_tfidf.fit(X_train, y_train)\n",
    "\n",
    "# Get predictions and probabilities\n",
    "svc_preds = svc_tfidf.predict(X_test)\n",
    "svc_y_score = svc_tfidf.predict_proba(X_test)\n",
    "\n",
    "# Calculate accuracy of test\n",
    "svc_acc_test = accuracy_score(y_test, svc_preds)\n",
    "print(f'Accuracy of SVC test: {svc_acc_test}')\n",
    "\n",
    "print()\n",
    "\n",
    "# Get precision, recall, f1-score\n",
    "precision, recall, fscore, support = score(y_test, svc_preds, average='macro')\n",
    "print(f'Precision : {precision}')\n",
    "print(f'Recall    : {recall}')\n",
    "print(f'F-score   : {fscore}')"
   ]
  },
  {
   "cell_type": "code",
   "execution_count": 130,
   "metadata": {},
   "outputs": [],
   "source": [
    "list_of_perform.append(dict([\n",
    "    ('Model', 'Support Vector Classifier'),\n",
    "    ('Train Accuracy', round(svc_acc, 2)),\n",
    "    ('Test Accuracy', round(svc_acc_test,2)),\n",
    "    ('Precision', round(precision, 2)),\n",
    "    ('Recall', round(recall, 2)),\n",
    "    ('F1', round(fscore, 2))\n",
    "     ]))\n",
    "\n",
    "# Add model to list\n",
    "models.append('Support Vector Classifier')\n",
    "\n",
    "# Add y_score to list\n",
    "y_scores.append(rf_y_score)"
   ]
  },
  {
   "cell_type": "markdown",
   "metadata": {},
   "source": [
    "### Model Performance"
   ]
  },
  {
   "cell_type": "code",
   "execution_count": 131,
   "metadata": {},
   "outputs": [
    {
     "data": {
      "text/html": [
       "<div>\n",
       "<style scoped>\n",
       "    .dataframe tbody tr th:only-of-type {\n",
       "        vertical-align: middle;\n",
       "    }\n",
       "\n",
       "    .dataframe tbody tr th {\n",
       "        vertical-align: top;\n",
       "    }\n",
       "\n",
       "    .dataframe thead th {\n",
       "        text-align: right;\n",
       "    }\n",
       "</style>\n",
       "<table border=\"1\" class=\"dataframe\">\n",
       "  <thead>\n",
       "    <tr style=\"text-align: right;\">\n",
       "      <th></th>\n",
       "      <th>Model</th>\n",
       "      <th>Train Accuracy</th>\n",
       "      <th>Test Accuracy</th>\n",
       "      <th>Precision</th>\n",
       "      <th>Recall</th>\n",
       "      <th>F1</th>\n",
       "    </tr>\n",
       "  </thead>\n",
       "  <tbody>\n",
       "    <tr>\n",
       "      <th>0</th>\n",
       "      <td>Naive Bayes</td>\n",
       "      <td>0.88</td>\n",
       "      <td>0.87</td>\n",
       "      <td>0.87</td>\n",
       "      <td>0.87</td>\n",
       "      <td>0.87</td>\n",
       "    </tr>\n",
       "    <tr>\n",
       "      <th>1</th>\n",
       "      <td>Logistic Regression</td>\n",
       "      <td>0.89</td>\n",
       "      <td>0.89</td>\n",
       "      <td>0.89</td>\n",
       "      <td>0.89</td>\n",
       "      <td>0.89</td>\n",
       "    </tr>\n",
       "    <tr>\n",
       "      <th>2</th>\n",
       "      <td>Random Forest</td>\n",
       "      <td>0.87</td>\n",
       "      <td>0.88</td>\n",
       "      <td>0.88</td>\n",
       "      <td>0.88</td>\n",
       "      <td>0.88</td>\n",
       "    </tr>\n",
       "    <tr>\n",
       "      <th>3</th>\n",
       "      <td>Support Vector Classifier</td>\n",
       "      <td>0.89</td>\n",
       "      <td>0.89</td>\n",
       "      <td>0.89</td>\n",
       "      <td>0.89</td>\n",
       "      <td>0.89</td>\n",
       "    </tr>\n",
       "  </tbody>\n",
       "</table>\n",
       "</div>"
      ],
      "text/plain": [
       "                       Model  Train Accuracy  Test Accuracy  Precision  \\\n",
       "0                Naive Bayes            0.88           0.87       0.87   \n",
       "1        Logistic Regression            0.89           0.89       0.89   \n",
       "2              Random Forest            0.87           0.88       0.88   \n",
       "3  Support Vector Classifier            0.89           0.89       0.89   \n",
       "\n",
       "   Recall    F1  \n",
       "0    0.87  0.87  \n",
       "1    0.89  0.89  \n",
       "2    0.88  0.88  \n",
       "3    0.89  0.89  "
      ]
     },
     "execution_count": 131,
     "metadata": {},
     "output_type": "execute_result"
    }
   ],
   "source": [
    "model_perf = pd.DataFrame(data=list_of_perform)\n",
    "model_perf = model_perf[['Model', 'Train Accuracy', 'Test Accuracy', 'Precision', 'Recall', 'F1']]\n",
    "#model_perf.drop_duplicates(inplace=True)\n",
    "model_perf"
   ]
  },
  {
   "cell_type": "code",
   "execution_count": 132,
   "metadata": {},
   "outputs": [],
   "source": [
    "def plot_roc_curves():\n",
    "    plt.figure(figsize=(10,6))\n",
    "    lw = 2\n",
    "    \n",
    "    # Naive Bayes\n",
    "    fpr, tpr, thresholds = roc_curve(y_test, nb_y_score[:,1], pos_label=1)\n",
    "    auc_nb = roc_auc_score(y_test, nb_y_score[:,1])\n",
    "    plt.plot(fpr, tpr, color='r',\n",
    "             lw=lw, label='NB, auc=%.3f' % auc_nb)\n",
    "        \n",
    "    # Logistic Regression\n",
    "    fpr, tpr, thresholds = roc_curve(y_test, lr_y_score[:,1], pos_label=1)\n",
    "    auc_lr = roc_auc_score(y_test, lr_y_score[:,1])\n",
    "    plt.plot(fpr, tpr, color='darkorange',\n",
    "             lw=lw, label='LR, auc=%.3f' % auc_lr)\n",
    "        \n",
    "    # Random Forest\n",
    "    fpr, tpr, thresholds = roc_curve(y_test, rf_y_score[:,1], pos_label=1)\n",
    "    auc_rf = roc_auc_score(y_test, rf_y_score[:,1])\n",
    "    plt.plot(fpr, tpr, color='y',\n",
    "             lw=lw, label='RF, auc=%.3f' % auc_rf)\n",
    "    \n",
    "    # SVC\n",
    "    fpr, tpr, thresholds = roc_curve(y_test, svc_y_score[:,1], pos_label=1)\n",
    "    auc_svc = roc_auc_score(y_test, svc_y_score[:,1])\n",
    "    plt.plot(fpr, tpr, color='chartreuse',\n",
    "             lw=lw, label='SVC, auc=%.3f' % auc_svc)\n",
    "    \n",
    "    # Formatting\n",
    "    plt.plot([0, 1], [0, 1], color='k', lw=lw, linestyle='--')\n",
    "    plt.xlim([-0.01, 1.0])\n",
    "    plt.ylim([0.0, 1.05])\n",
    "    plt.xlabel('False Positive Rate', fontsize=13)\n",
    "    plt.ylabel('True Positive Rate', fontsize=13)\n",
    "    plt.title('Receiver Operating Characteristic', fontsize=16)\n",
    "    plt.legend(loc=\"lower right\")\n",
    "    plt.show()"
   ]
  },
  {
   "cell_type": "code",
   "execution_count": 133,
   "metadata": {},
   "outputs": [
    {
     "data": {
      "image/png": "[encoded data removed]",
      "text/plain": [
       "<Figure size 720x432 with 1 Axes>"
      ]
     },
     "metadata": {
      "needs_background": "light"
     },
     "output_type": "display_data"
    }
   ],
   "source": [
    "plot_roc_curves()"
   ]
  },
  {
   "cell_type": "code",
   "execution_count": 134,
   "metadata": {},
   "outputs": [],
   "source": [
    "import pickle\n",
    "\n",
    "filename = 'lr_model.sav'\n",
    "pickle.dump(lr_tfidf, open(filename, 'wb'))"
   ]
  }
 ],
 "metadata": {
  "kernelspec": {
   "display_name": "Python 3",
   "language": "python",
   "name": "python3"
  },
  "language_info": {
   "codemirror_mode": {
    "name": "ipython",
    "version": 3
   },
   "file_extension": ".py",
   "mimetype": "text/x-python",
   "name": "python",
   "nbconvert_exporter": "python",
   "pygments_lexer": "ipython3",
   "version": "3.8.5"
  }
 },
 "nbformat": 4,
 "nbformat_minor": 4
}
